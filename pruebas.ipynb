{
 "cells": [
  {
   "cell_type": "code",
   "execution_count": 23,
   "metadata": {},
   "outputs": [
    {
     "name": "stdout",
     "output_type": "stream",
     "text": [
      "40\n"
     ]
    }
   ],
   "source": [
    "\"\"\"\n",
    "Laboratorio - Manipulación de Datos usando Pandas\n",
    "-----------------------------------------------------------------------------------------\n",
    "\n",
    "Este archivo contiene las preguntas que se van a realizar en el laboratorio.\n",
    "\n",
    "Utilice los archivos `tbl0.tsv`, `tbl1.tsv` y `tbl2.tsv`, para resolver las preguntas.\n",
    "\n",
    "\"\"\"\n",
    "import pandas as pd\n",
    "\n",
    "tbl0 = pd.read_csv(\"tbl0.tsv\", sep=\"\\t\")\n",
    "tbl1 = pd.read_csv(\"tbl1.tsv\", sep=\"\\t\")\n",
    "tbl2 = pd.read_csv(\"tbl2.tsv\", sep=\"\\t\")\n",
    "\n",
    "def pregunta_01():\n",
    "    \"\"\"\n",
    "    ¿Cuál es la cantidad de filas en la tabla `tbl0.tsv`?\n",
    "    Rta/\n",
    "    40\n",
    "    \"\"\"\n",
    "\n",
    "    return len(tbl0)\n",
    "\n",
    "print(pregunta_01())\n"
   ]
  },
  {
   "cell_type": "code",
   "execution_count": 25,
   "metadata": {},
   "outputs": [
    {
     "name": "stdout",
     "output_type": "stream",
     "text": [
      "4\n"
     ]
    }
   ],
   "source": [
    "def pregunta_02():\n",
    "    \"\"\"\n",
    "    ¿Cuál es la cantidad de columnas en la tabla `tbl0.tsv`?\n",
    "    Rta/\n",
    "    4\n",
    "    \"\"\"\n",
    "    return len(tbl0.columns)\n",
    "print(pregunta_02())"
   ]
  },
  {
   "cell_type": "code",
   "execution_count": 35,
   "metadata": {},
   "outputs": [
    {
     "name": "stdout",
     "output_type": "stream",
     "text": [
      "A     8\n",
      "B     7\n",
      "C     5\n",
      "D     6\n",
      "E    14\n",
      "Name: _c1, dtype: int64\n"
     ]
    }
   ],
   "source": [
    "def pregunta_03():\n",
    "    \"\"\"\n",
    "    ¿Cuál es la cantidad de registros por cada letra de la columna _c1 del archivo\n",
    "    `tbl0.tsv`?\n",
    "\n",
    "    Rta/\n",
    "        A     8\n",
    "        B     7\n",
    "        C     5\n",
    "        D     6\n",
    "        E    14\n",
    "        Name: _c1, dtype: int64\n",
    "\n",
    "    \"\"\"\n",
    "    conteo_por_letra = tbl0['_c1'].value_counts()\n",
    "    conteo_por_letra.name = '_c1'\n",
    "    conteo_por_letra.index.name = None\n",
    "    return conteo_por_letra.sort_index()\n",
    "\n",
    "# Llamar a la función para obtener la respuesta\n",
    "print(pregunta_03())\n",
    "\n",
    "# Imprimir la respuesta\n",
    "\n",
    "    "
   ]
  },
  {
   "cell_type": "code",
   "execution_count": 41,
   "metadata": {},
   "outputs": [
    {
     "name": "stdout",
     "output_type": "stream",
     "text": [
      "A    4.625000\n",
      "B    5.142857\n",
      "C    5.400000\n",
      "D    3.833333\n",
      "E    4.785714\n",
      "Name: _c2, dtype: float64\n"
     ]
    }
   ],
   "source": [
    "def pregunta_04():\n",
    "    \"\"\"\n",
    "    Calcule el promedio de _c2 por cada letra de la _c1 del archivo `tbl0.tsv`.\n",
    "\n",
    "    Rta/\n",
    "    A    4.625000\n",
    "    B    5.142857\n",
    "    C    5.400000\n",
    "    D    3.833333\n",
    "    E    4.785714\n",
    "    Name: _c2, dtype: float64\n",
    "    \"\"\"\n",
    "    prom_por_letra = tbl0.groupby('_c1')['_c2'].mean()\n",
    "    prom_por_letra.name = '_c2'\n",
    "    prom_por_letra.index.name = None\n",
    "    return prom_por_letra\n",
    "print(pregunta_04())\n",
    "\n"
   ]
  },
  {
   "cell_type": "code",
   "execution_count": 42,
   "metadata": {},
   "outputs": [
    {
     "name": "stdout",
     "output_type": "stream",
     "text": [
      "A    9\n",
      "B    9\n",
      "C    9\n",
      "D    7\n",
      "E    9\n",
      "Name: _c2, dtype: int64\n"
     ]
    }
   ],
   "source": [
    "def pregunta_05():\n",
    "    \"\"\"\n",
    "    Calcule el valor máximo de _c2 por cada letra en la columna _c1 del archivo\n",
    "    `tbl0.tsv`.\n",
    "\n",
    "    Rta/\n",
    "    _c1\n",
    "    A    9\n",
    "    B    9\n",
    "    C    9\n",
    "    D    7\n",
    "    E    9\n",
    "    Name: _c2, dtype: int64\n",
    "    \"\"\"\n",
    "    max_por_letra = tbl0.groupby('_c1')['_c2'].max()\n",
    "    max_por_letra.name = '_c2'\n",
    "    max_por_letra.index.name = None\n",
    "    return max_por_letra\n",
    "print(pregunta_05())"
   ]
  },
  {
   "cell_type": "code",
   "execution_count": 43,
   "metadata": {},
   "outputs": [
    {
     "name": "stdout",
     "output_type": "stream",
     "text": [
      "['A', 'B', 'C', 'D', 'E', 'F', 'G']\n"
     ]
    }
   ],
   "source": [
    "def pregunta_06():\n",
    "    \"\"\"\n",
    "    Retorne una lista con los valores unicos de la columna _c4 de del archivo `tbl1.csv`\n",
    "    en mayusculas y ordenados alfabéticamente.\n",
    "\n",
    "    Rta/\n",
    "    ['A', 'B', 'C', 'D', 'E', 'F', 'G']\n",
    "\n",
    "    \"\"\"\n",
    "    return sorted(tbl1['_c4'].str.upper().unique())\n",
    "print(pregunta_06())"
   ]
  },
  {
   "cell_type": "code",
   "execution_count": 47,
   "metadata": {},
   "outputs": [
    {
     "name": "stdout",
     "output_type": "stream",
     "text": [
      "A    37\n",
      "B    36\n",
      "C    27\n",
      "D    23\n",
      "E    67\n",
      "Name: _c2, dtype: int64\n"
     ]
    }
   ],
   "source": [
    "def pregunta_07():\n",
    "    \"\"\"\n",
    "    Calcule la suma de la _c2 por cada letra de la _c1 del archivo `tbl0.tsv`.\n",
    "\n",
    "    Rta/\n",
    "    _c1\n",
    "    A    37\n",
    "    B    36\n",
    "    C    27\n",
    "    D    23\n",
    "    E    67\n",
    "    Name: _c2, dtype: int64\n",
    "    \"\"\"\n",
    "    suma_por_letra = tbl0.groupby('_c1')['_c2'].sum()\n",
    "    suma_por_letra.name = '_c2'\n",
    "    suma_por_letra.index.name = None\n",
    "    return suma_por_letra\n",
    "print(pregunta_07())"
   ]
  },
  {
   "cell_type": "code",
   "execution_count": 59,
   "metadata": {},
   "outputs": [
    {
     "name": "stdout",
     "output_type": "stream",
     "text": [
      "    _c0 _c1  _c2         _c3    year  suma\n",
      "0     0   E    1  1999-02-28  1999.0     1\n",
      "1     1   A    2  1999-10-28  1999.0     3\n",
      "2     2   B    5  1998-05-02  1998.0     7\n",
      "3     3   A    3  1999-08-28  1999.0     6\n",
      "4     4   C    6  1999-12-01  1999.0    10\n",
      "5     5   A    7  1998-07-28  1998.0    12\n",
      "6     6   A    9  1997-02-28  1997.0    15\n",
      "7     7   B    1  1999-05-10  1999.0     8\n",
      "8     8   E    2  1997-04-12  1997.0    10\n",
      "9     9   B    3  1999-11-23  1999.0    12\n",
      "10   10   C    7  1998-01-17  1998.0    17\n",
      "11   11   C    5  1998-12-28  1998.0    16\n",
      "12   12   D    3  1999-10-15  1999.0    15\n",
      "13   13   E    8  1998-11-01  1998.0    21\n",
      "14   14   B    9  1999-08-12  1999.0    23\n",
      "15   15   D    1  1997-12-01  1997.0    16\n",
      "16   16   E    3  1997-07-28  1997.0    19\n",
      "17   17   D    5  1998-08-12  1998.0    22\n",
      "18   18   E    8  1999-08-24  1999.0    26\n",
      "19   19   E    9  1998-01-23  1998.0    28\n",
      "20   20   E    7  1999-06-22  1999.0    27\n",
      "21   21   E    3  1999-04-24  1999.0    24\n",
      "22   22   D    5  1999-06-25  1999.0    27\n",
      "23   23   A    1  1999-08-25  1999.0    24\n",
      "24   24   E    4  1997-07-26  1997.0    28\n",
      "25   25   E    6  1997-09-24  1997.0    31\n",
      "26   26   A    8  1997-09-28  1997.0    34\n",
      "27   27   E    5  1999-06-22  1999.0    32\n",
      "28   28   A    6  1999-07-29  1999.0    34\n",
      "29   29   C    0  1999-08-22  1999.0    29\n",
      "30   30   A    1  1998-04-26  1998.0    31\n",
      "31   31   D    2  1998-02-24  1998.0    33\n",
      "32   32   E    5  1999-03-24  1999.0    37\n",
      "33   33   B    4  1998-03-23  1998.0    37\n",
      "34   34   B    6  1999-04-21  1999.0    40\n",
      "35   35   D    7  1999-02-29     NaN    42\n",
      "36   36   B    8  1997-05-21  1997.0    44\n",
      "37   37   C    9  1997-07-22  1997.0    46\n",
      "38   38   E    1  1999-09-28  1999.0    39\n",
      "39   39   E    5  1998-01-26  1998.0    44\n"
     ]
    }
   ],
   "source": [
    "def pregunta_08():\n",
    "    \"\"\"\n",
    "    Agregue una columna llamada `suma` con la suma de _c0 y _c2 al archivo `tbl0.tsv`.\n",
    "\n",
    "    Rta/\n",
    "        _c0 _c1  _c2         _c3  suma\n",
    "    0     0   E    1  1999-02-28     1\n",
    "    1     1   A    2  1999-10-28     3\n",
    "    2     2   B    5  1998-05-02     7\n",
    "    ...\n",
    "    37   37   C    9  1997-07-22    46\n",
    "    38   38   E    1  1999-09-28    39\n",
    "    39   39   E    5  1998-01-26    44\n",
    "\n",
    "    \"\"\"\n",
    "    tbl0['suma'] = tbl0['_c0'] + tbl0['_c2']\n",
    "    return tbl0\n",
    "print(pregunta_08())\n",
    "\n",
    "#     return tbl0\n",
    "# print(pregunta_08())"
   ]
  },
  {
   "cell_type": "code",
   "execution_count": 71,
   "metadata": {},
   "outputs": [
    {
     "name": "stdout",
     "output_type": "stream",
     "text": [
      "    _c0 _c1  _c2         _c3  year\n",
      "0     0   E    1  1999-02-28  1999\n",
      "1     1   A    2  1999-10-28  1999\n",
      "2     2   B    5  1998-05-02  1998\n",
      "3     3   A    3  1999-08-28  1999\n",
      "4     4   C    6  1999-12-01  1999\n",
      "5     5   A    7  1998-07-28  1998\n",
      "6     6   A    9  1997-02-28  1997\n",
      "7     7   B    1  1999-05-10  1999\n",
      "8     8   E    2  1997-04-12  1997\n",
      "9     9   B    3  1999-11-23  1999\n",
      "10   10   C    7  1998-01-17  1998\n",
      "11   11   C    5  1998-12-28  1998\n",
      "12   12   D    3  1999-10-15  1999\n",
      "13   13   E    8  1998-11-01  1998\n",
      "14   14   B    9  1999-08-12  1999\n",
      "15   15   D    1  1997-12-01  1997\n",
      "16   16   E    3  1997-07-28  1997\n",
      "17   17   D    5  1998-08-12  1998\n",
      "18   18   E    8  1999-08-24  1999\n",
      "19   19   E    9  1998-01-23  1998\n",
      "20   20   E    7  1999-06-22  1999\n",
      "21   21   E    3  1999-04-24  1999\n",
      "22   22   D    5  1999-06-25  1999\n",
      "23   23   A    1  1999-08-25  1999\n",
      "24   24   E    4  1997-07-26  1997\n",
      "25   25   E    6  1997-09-24  1997\n",
      "26   26   A    8  1997-09-28  1997\n",
      "27   27   E    5  1999-06-22  1999\n",
      "28   28   A    6  1999-07-29  1999\n",
      "29   29   C    0  1999-08-22  1999\n",
      "30   30   A    1  1998-04-26  1998\n",
      "31   31   D    2  1998-02-24  1998\n",
      "32   32   E    5  1999-03-24  1999\n",
      "33   33   B    4  1998-03-23  1998\n",
      "34   34   B    6  1999-04-21  1999\n",
      "35   35   D    7  1999-02-29  1999\n",
      "36   36   B    8  1997-05-21  1997\n",
      "37   37   C    9  1997-07-22  1997\n",
      "38   38   E    1  1999-09-28  1999\n",
      "39   39   E    5  1998-01-26  1998\n"
     ]
    }
   ],
   "source": [
    "def pregunta_09():\n",
    "    \"\"\"\n",
    "    Agregue el año como una columna al archivo `tbl0.tsv`.\n",
    "\n",
    "    Rta/\n",
    "        _c0 _c1  _c2         _c3  year\n",
    "    0     0   E    1  1999-02-28  1999\n",
    "    1     1   A    2  1999-10-28  1999\n",
    "    2     2   B    5  1998-05-02  1998\n",
    "    ...\n",
    "    37   37   C    9  1997-07-22  1997\n",
    "    38   38   E    1  1999-09-28  1999\n",
    "    39   39   E    5  1998-01-26  1998\n",
    "\n",
    "    \"\"\"\n",
    "    tbl0['year'] = tbl0['_c3'].str[:4]\n",
    "    return tbl0\n",
    "print(pregunta_09())\n",
    "\n"
   ]
  },
  {
   "cell_type": "code",
   "execution_count": 118,
   "metadata": {},
   "outputs": [
    {
     "name": "stdout",
     "output_type": "stream",
     "text": [
      "                             _c2\n",
      "_c1                             \n",
      "A                1:1:2:3:6:7:8:9\n",
      "B                  1:3:4:5:6:8:9\n",
      "C                      0:5:6:7:9\n",
      "D                    1:2:3:5:5:7\n",
      "E    1:1:2:3:3:4:5:5:5:6:7:8:8:9\n"
     ]
    }
   ],
   "source": [
    "def pregunta_10():\n",
    "  \"\"\"\n",
    "  Construya una tabla que contenga _c1 y una lista separada por ':' de los valores de\n",
    "  la columna _c2 para el archivo `tbl0.tsv`.\n",
    "\n",
    "\n",
    " Rta/\n",
    "                                   _c1\n",
    "      _c0\n",
    "    0   A              1:1:2:3:6:7:8:9\n",
    "    1   B                1:3:4:5:6:8:9\n",
    "    2   C                    0:5:6:7:9\n",
    "    3   D                  1:2:3:5:5:7\n",
    "    4   E  1:1:2:3:3:4:5:5:5:6:7:8:8:9\n",
    "  \"\"\"\n",
    "    # tabla = tbl0.groupby('_c1').agg({'_c2': lambda x: ':'.join(map(str, x))}).reset_index()\n",
    "    # tabla.columns = ['_c1', '_c2']\n",
    "    #     # Función personalizada para construir la cadena con ':' separando los valores\n",
    "    # def join_values(values):\n",
    "    #     return ':'.join(str(v) for v in sorted(values))\n",
    "\n",
    "    # # Agrupar por _c1 y aplicar la función personalizada para construir la lista separada por ':'\n",
    "    # tabla = tbl0.groupby('_c1')['_c2'].agg(join_values).reset_index()\n",
    "  tabla = tbl0.groupby('_c1')['_c2'].agg(lambda values: ':'.join(str(v) for v in sorted(values))).reset_index().set_index('_c1')\n",
    "\n",
    "  return tabla\n",
    "print(pregunta_10())\n",
    "\n",
    "  # df10 = tbl0.copy()\n",
    "  # df10 = tbl0[[\"_c1\", \"_c2\"]]\n",
    "  \n",
    "  # return df10.groupby(\"_c1\", as_index=True).agg(\n",
    "  #   {\"_c2\": lambda x: \":\".join(map(str, sorted(x)))}\n"
   ]
  },
  {
   "cell_type": "code",
   "execution_count": 121,
   "metadata": {},
   "outputs": [
    {
     "name": "stdout",
     "output_type": "stream",
     "text": [
      "         _c4\n",
      "_c0         \n",
      "0      b,f,g\n",
      "1      a,c,f\n",
      "2    a,c,e,f\n",
      "3        a,b\n",
      "4    a,d,f,g\n",
      "5        c,d\n",
      "6      a,d,g\n",
      "7        a,b\n",
      "8    a,d,e,f\n",
      "9    b,d,f,g\n",
      "10   b,c,d,f\n",
      "11   a,c,d,e\n",
      "12   b,e,f,g\n",
      "13       c,f\n",
      "14       b,d\n",
      "15       e,f\n",
      "16     b,e,f\n",
      "17       a,g\n",
      "18   a,c,e,f\n",
      "19       a,e\n",
      "20       e,f\n",
      "21     b,c,g\n",
      "22     a,c,f\n",
      "23     a,d,f\n",
      "24       c,d\n",
      "25     c,d,e\n",
      "26     a,e,f\n",
      "27     a,c,g\n",
      "28       e,f\n",
      "29   a,c,f,g\n",
      "30       b,f\n",
      "31       b,f\n",
      "32       a,c\n",
      "33     b,c,f\n",
      "34     a,e,f\n",
      "35       a,f\n",
      "36       a,c\n",
      "37   a,c,e,f\n",
      "38       d,e\n",
      "39     a,d,f\n"
     ]
    }
   ],
   "source": [
    "def pregunta_11():\n",
    "    \"\"\"\n",
    "    Construya una tabla que contenga _c0 y una lista separada por ',' de los valores de\n",
    "    la columna _c4 del archivo `tbl1.tsv`.\n",
    "\n",
    "    Rta/\n",
    "        _c0      _c4\n",
    "    0     0    b,f,g\n",
    "    1     1    a,c,f\n",
    "    2     2  a,c,e,f\n",
    "    3     3      a,b\n",
    "    ...\n",
    "    37   37  a,c,e,f\n",
    "    38   38      d,e\n",
    "    39   39    a,d,f\n",
    "    \"\"\"\n",
    "    tabla = tbl1.groupby('_c0')['_c4'].agg(lambda values: ','.join(str(v) for v in sorted(values))).reset_index().set_index('_c0')\n",
    "    #aparezca el indice\n",
    "    \n",
    "    return tabla\n",
    "print(pregunta_11())"
   ]
  },
  {
   "cell_type": "code",
   "execution_count": 123,
   "metadata": {},
   "outputs": [
    {
     "name": "stdout",
     "output_type": "stream",
     "text": [
      "                                     _c5\n",
      "_c0                                     \n",
      "0          jjj:3,bbb:0,ddd:9,ggg:8,hhh:2\n",
      "1                ccc:2,ddd:0,aaa:3,hhh:9\n",
      "2                ddd:2,ggg:5,ccc:6,jjj:1\n",
      "3                hhh:9,iii:5,eee:7,bbb:1\n",
      "4                iii:6,ddd:5,eee:4,jjj:3\n",
      "5          bbb:2,hhh:0,ccc:4,fff:1,aaa:7\n",
      "6    aaa:5,fff:8,ddd:2,iii:0,jjj:7,ccc:1\n",
      "7                      fff:3,hhh:1,ddd:2\n",
      "8    eee:4,ccc:5,iii:9,fff:7,ggg:6,bbb:0\n",
      "9    bbb:7,jjj:9,fff:5,iii:4,ggg:2,eee:3\n",
      "10         hhh:6,eee:4,iii:0,fff:2,jjj:1\n",
      "11                     bbb:7,iii:6,ggg:9\n",
      "12         bbb:9,aaa:3,ccc:6,fff:4,eee:2\n",
      "13                     aaa:8,ddd:5,jjj:1\n",
      "14         ccc:0,jjj:6,fff:7,ddd:3,aaa:2\n",
      "15               ccc:0,eee:6,bbb:9,ddd:3\n",
      "16   bbb:6,iii:3,hhh:5,fff:4,ggg:9,ddd:2\n",
      "17                     hhh:4,jjj:5,ccc:9\n",
      "18                     ccc:1,iii:6,fff:9\n",
      "19                     bbb:9,aaa:3,fff:1\n",
      "20                     ddd:9,iii:2,aaa:4\n",
      "21                     ccc:5,fff:8,iii:7\n",
      "22                     eee:3,jjj:2,ddd:7\n",
      "23         jjj:1,ggg:0,ccc:7,ddd:9,bbb:3\n",
      "24   jjj:6,ccc:0,aaa:1,hhh:9,iii:7,ggg:8\n",
      "25   fff:3,eee:6,iii:4,bbb:7,ddd:0,ccc:1\n",
      "26                     fff:0,ddd:5,ccc:4\n",
      "27         ggg:6,hhh:3,ddd:9,ccc:0,jjj:7\n",
      "28         hhh:6,jjj:0,eee:5,iii:7,ccc:3\n",
      "29   eee:1,fff:4,aaa:2,ccc:7,ggg:0,ddd:6\n",
      "30         ccc:6,aaa:9,eee:5,ddd:0,bbb:3\n",
      "31   bbb:7,hhh:1,aaa:6,iii:4,fff:9,ddd:5\n",
      "32               fff:3,ccc:1,ggg:2,eee:5\n",
      "33   iii:7,ggg:3,ddd:0,jjj:8,hhh:5,ccc:1\n",
      "34         hhh:6,ccc:3,jjj:0,bbb:8,ddd:7\n",
      "35                     aaa:0,fff:5,ddd:3\n",
      "36         ddd:5,jjj:2,iii:7,ccc:0,bbb:4\n",
      "37                     eee:0,fff:2,hhh:6\n",
      "38                     fff:9,iii:2,eee:0\n",
      "39                     hhh:8,ggg:3,jjj:5\n"
     ]
    }
   ],
   "source": [
    "def pregunta_12():\n",
    "    \"\"\"\n",
    "    Construya una tabla que contenga _c0 y una lista separada por ',' de los valores de\n",
    "    la columna _c5a y _c5b (unidos por ':') de la tabla `tbl2.tsv`.\n",
    "\n",
    "    Rta/\n",
    "        _c0                                  _c5\n",
    "    0     0        bbb:0,ddd:9,ggg:8,hhh:2,jjj:3\n",
    "    1     1              aaa:3,ccc:2,ddd:0,hhh:9\n",
    "    2     2              ccc:6,ddd:2,ggg:5,jjj:1\n",
    "    ...\n",
    "    37   37                    eee:0,fff:2,hhh:6\n",
    "    38   38                    eee:0,fff:9,iii:2\n",
    "    39   39                    ggg:3,hhh:8,jjj:5\n",
    "    \"\"\"\n",
    "    tabla = tbl2.groupby('_c0')[['_c5a', '_c5b']].apply(lambda x: ','.join(f'{a}:{b}' for a, b in x.values)).reset_index()\n",
    "    tabla.columns = ['_c0', '_c5']\n",
    "    tabla = tabla.set_index('_c0')\n",
    "    return tabla\n",
    "print(pregunta_12())"
   ]
  }
 ],
 "metadata": {
  "kernelspec": {
   "display_name": ".venv",
   "language": "python",
   "name": "python3"
  },
  "language_info": {
   "codemirror_mode": {
    "name": "ipython",
    "version": 3
   },
   "file_extension": ".py",
   "mimetype": "text/x-python",
   "name": "python",
   "nbconvert_exporter": "python",
   "pygments_lexer": "ipython3",
   "version": "3.11.8"
  }
 },
 "nbformat": 4,
 "nbformat_minor": 2
}
